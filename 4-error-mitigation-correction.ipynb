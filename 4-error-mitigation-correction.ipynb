{
 "cells": [
  {
   "cell_type": "markdown",
   "id": "3fec03d5-3529-4d92-866a-b1b2690523f2",
   "metadata": {},
   "source": [
    "4-error-mitigation-correction.ipynb will \n",
    "\n",
    "Last Updated: 08/08/2023 \\\n",
    "by Amanda Bowman\n",
    "\n",
    "<sub>Note: Qiskit is updated frequently and the method to set up or load an IBMQ account may have changed since this document was last updated.</sub>"
   ]
  },
  {
   "cell_type": "markdown",
   "id": "60f3b74a-4256-4034-b080-6b78fe2ee3cb",
   "metadata": {},
   "source": [
    "# Error Mitigation and Error Correction"
   ]
  },
  {
   "cell_type": "markdown",
   "id": "5728b02f-94b8-402c-b351-9f1b0c63a8b0",
   "metadata": {},
   "source": [
    "https://learn.qiskit.org/summer-school/2020/error-correction-using-repetition-codes\n",
    "\n",
    "https://learn.qiskit.org/summer-school/2022/noisy-real-hardware-noise-quantum-computers"
   ]
  },
  {
   "cell_type": "code",
   "execution_count": null,
   "id": "80c185e0-93b0-4052-8358-d9d69e84ccb0",
   "metadata": {},
   "outputs": [],
   "source": []
  }
 ],
 "metadata": {
  "kernelspec": {
   "display_name": "Python 3 (ipykernel)",
   "language": "python",
   "name": "python3"
  },
  "language_info": {
   "codemirror_mode": {
    "name": "ipython",
    "version": 3
   },
   "file_extension": ".py",
   "mimetype": "text/x-python",
   "name": "python",
   "nbconvert_exporter": "python",
   "pygments_lexer": "ipython3",
   "version": "3.8.5"
  }
 },
 "nbformat": 4,
 "nbformat_minor": 5
}
