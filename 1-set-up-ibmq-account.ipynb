{
 "cells": [
  {
   "cell_type": "markdown",
   "id": "bea5f9aa-b375-49f7-9595-d0eabf06fe83",
   "metadata": {},
   "source": [
    "0-set-up-ibmq-account.ipynb will walk you through how to set up and IBM Quantum account so you can use their systems to run quantum circuits on simulators and quantum computers.\n",
    "\n",
    "Last Updated: 08/08/2023 \\\n",
    "by Amanda Bowman\n",
    "\n",
    "<sub>Note: Qiskit is updated frequently and the method to set up or load an IBMQ account may have changed since this document was last updated.</sub>"
   ]
  },
  {
   "cell_type": "markdown",
   "id": "e9c49867-738a-4168-8ef3-7ca88922f305",
   "metadata": {
    "tags": []
   },
   "source": [
    "# Setting up an account with IBM Quantum Experience"
   ]
  },
  {
   "cell_type": "markdown",
   "id": "a15040e6-77d3-4faf-be5f-7bea65524ce0",
   "metadata": {},
   "source": [
    "## 1 Setting up an IBMQ account\n",
    "IBM provided a [YouTube video](https://www.youtube.com/watch?v=1kRfHNUbkrg&t=0s) on how to set up an account with IBMQ. I reccomend watching the video and using this notebook to run the commands referenced in the video."
   ]
  },
  {
   "cell_type": "markdown",
   "id": "d28195fa-eee7-4ae0-bf4f-047a275f9b76",
   "metadata": {
    "tags": []
   },
   "source": [
    "### 1.1 Setting up IBMQ Account on the Cloud"
   ]
  },
  {
   "cell_type": "markdown",
   "id": "c86c528c-9951-4b95-90e2-a01727f51369",
   "metadata": {},
   "source": [
    "#### 1.1.1 Navitage to the [IBM Quantum Webpage](https://quantum-computing.ibm.com/) and follow the instructions to create an account."
   ]
  },
  {
   "cell_type": "markdown",
   "id": "349e3e50-b0bb-4ead-82c3-cd98b278543a",
   "metadata": {
    "tags": []
   },
   "source": [
    "### 1.2 Setting up IBMQ Account Locally"
   ]
  },
  {
   "cell_type": "markdown",
   "id": "c8113bf2-e47e-4073-97b5-2ac07c98b5cc",
   "metadata": {
    "tags": []
   },
   "source": [
    "#### Check Python version\n",
    "\n",
    "Check [Qiskit documentation](https://qiskit.org/documentation/getting_started.html) to see which versions of Python are supported.\n",
    "\n",
    "Then check if you have the version of Python you want installed:"
   ]
  },
  {
   "cell_type": "code",
   "execution_count": 1,
   "id": "3c6f63a7-d940-45a4-92cf-4ce32d835262",
   "metadata": {},
   "outputs": [
    {
     "name": "stdout",
     "output_type": "stream",
     "text": [
      "\n",
      "     active environment : base\n",
      "    active env location : /Users/Mandy/opt/anaconda3\n",
      "            shell level : 1\n",
      "       user config file : /Users/Mandy/.condarc\n",
      " populated config files : /Users/Mandy/.condarc\n",
      "          conda version : 23.7.2\n",
      "    conda-build version : 3.20.5\n",
      "         python version : 3.8.5.final.0\n",
      "       virtual packages : __archspec=1=x86_64\n",
      "                          __osx=10.16=0\n",
      "                          __unix=0=0\n",
      "       base environment : /Users/Mandy/opt/anaconda3  (writable)\n",
      "      conda av data dir : /Users/Mandy/opt/anaconda3/etc/conda\n",
      "  conda av metadata url : None\n",
      "           channel URLs : https://repo.anaconda.com/pkgs/main/osx-64\n",
      "                          https://repo.anaconda.com/pkgs/main/noarch\n",
      "                          https://repo.anaconda.com/pkgs/r/osx-64\n",
      "                          https://repo.anaconda.com/pkgs/r/noarch\n",
      "          package cache : /Users/Mandy/opt/anaconda3/pkgs\n",
      "                          /Users/Mandy/.conda/pkgs\n",
      "       envs directories : /Users/Mandy/opt/anaconda3/envs\n",
      "                          /Users/Mandy/.conda/envs\n",
      "               platform : osx-64\n",
      "             user-agent : conda/23.7.2 requests/2.31.0 CPython/3.8.5 Darwin/22.5.0 OSX/10.16\n",
      "                UID:GID : 502:20\n",
      "             netrc file : None\n",
      "           offline mode : False\n",
      "\n",
      "\n",
      "\n",
      "Note: you may need to restart the kernel to use updated packages.\n"
     ]
    }
   ],
   "source": [
    "conda info"
   ]
  },
  {
   "cell_type": "markdown",
   "id": "2fb3a54a-46e2-4650-9d10-2daef091a5e7",
   "metadata": {},
   "source": [
    "Install new Python version if you don't have the version you want.\n",
    "\n",
    "Replace \\<version\\> with the version of Python you want to use. "
   ]
  },
  {
   "cell_type": "code",
   "execution_count": null,
   "id": "93a060ba-14fc-4f72-a74e-b4898f6c3065",
   "metadata": {},
   "outputs": [],
   "source": [
    "conda install python=<version>"
   ]
  },
  {
   "cell_type": "markdown",
   "id": "46130a2f-fc91-4511-b2f0-9736c61d6e84",
   "metadata": {
    "tags": []
   },
   "source": [
    "#### 1.2.1 Create a virtual environemnt with Anaconda and install Python\n",
    "\n",
    "<sub>Read [this webpage](https://csguide.cs.princeton.edu/software/virtualenv) to learn about virtual environments and why you should use them.</sub>\n",
    "\n",
    "Replace \\<name-of-environment\\> with your chosen name for the new virtual environemnt.\n",
    "\n",
    "Replace \\<version\\> with the version of Python you want to use. "
   ]
  },
  {
   "cell_type": "code",
   "execution_count": 2,
   "id": "33631551-012b-41f8-ac7c-462674f3a405",
   "metadata": {},
   "outputs": [
    {
     "name": "stdout",
     "output_type": "stream",
     "text": [
      "zsh:1: no such file or directory: name-of-environment\n",
      "\n",
      "Note: you may need to restart the kernel to use updated packages.\n"
     ]
    }
   ],
   "source": [
    "conda create -n <name-of-environment> python=<version> anaconda"
   ]
  },
  {
   "cell_type": "markdown",
   "id": "62f9b816-db9c-4126-9f87-1ac7fa990ef7",
   "metadata": {},
   "source": [
    "#### 1.2.3 Install Qiskit into virtual environment"
   ]
  },
  {
   "cell_type": "code",
   "execution_count": 3,
   "id": "4877bbb5-b0c8-4d91-a40f-4b96e6d56205",
   "metadata": {},
   "outputs": [],
   "source": [
    "pip install qiskit"
   ]
  },
  {
   "cell_type": "markdown",
   "id": "4c59475f-7e46-4d15-a08f-ba2a13df02ea",
   "metadata": {
    "tags": []
   },
   "source": [
    "#### 1.2.4 Store account information"
   ]
  },
  {
   "cell_type": "code",
   "execution_count": 7,
   "id": "9bd7e1f7-e103-4f67-a8b0-edf22ee6d916",
   "metadata": {},
   "outputs": [],
   "source": [
    "import qiskit\n",
    "from qiskit import IBMQ"
   ]
  },
  {
   "cell_type": "markdown",
   "id": "cd774454-4aa9-474b-b8ed-4dfc5c00b805",
   "metadata": {},
   "source": [
    "Replace \\<API token\\> with your API token which you can find on the [IBM Quantum Webpage](https://quantum-computing.ibm.com/)."
   ]
  },
  {
   "cell_type": "code",
   "execution_count": null,
   "id": "8d94517d-c321-4b6b-bf2f-ed31e7c4252b",
   "metadata": {},
   "outputs": [],
   "source": [
    "IBMQ.save_account(‘<API token>’)"
   ]
  },
  {
   "cell_type": "markdown",
   "id": "b318eaad-6076-42ab-a575-7b03770c3ca5",
   "metadata": {
    "tags": []
   },
   "source": [
    "#### 1.2.5 Load account"
   ]
  },
  {
   "cell_type": "code",
   "execution_count": 9,
   "id": "9f09d1a0-eac7-4b16-b146-497313ddbdda",
   "metadata": {},
   "outputs": [
    {
     "name": "stderr",
     "output_type": "stream",
     "text": [
      "/var/folders/tb/t8qqy0cj4qsgf1zcbpdjb1940000gp/T/ipykernel_11042/485379158.py:1: DeprecationWarning: The qiskit.IBMQ entrypoint and the qiskit-ibmq-provider package (accessible from 'qiskit.providers.ibmq`) are deprecated and will be removed in a future release. Instead you should use the qiskit-ibm-provider package which is accessible from 'qiskit_ibm_provider'. You can install it with 'pip install qiskit_ibm_provider'. Just replace 'qiskit.IBMQ' with 'qiskit_ibm_provider.IBMProvider'\n",
      "  IBMQ.load_account()\n"
     ]
    },
    {
     "data": {
      "text/plain": [
       "<AccountProvider for IBMQ(hub='ibm-q', group='open', project='main')>"
      ]
     },
     "execution_count": 9,
     "metadata": {},
     "output_type": "execute_result"
    }
   ],
   "source": [
    "IBMQ.load_account()"
   ]
  },
  {
   "cell_type": "markdown",
   "id": "8b6f59e6-9ee8-4ea5-a824-c85a8f905348",
   "metadata": {},
   "source": [
    "### 1.3 IBMQ Backends"
   ]
  },
  {
   "cell_type": "markdown",
   "id": "b36d2b80-9f09-4fb2-b069-95f9d851662c",
   "metadata": {},
   "source": [
    "You can run your quantum circuits on simulators or real quantum hardware provided by IBMQ.\n",
    "\n",
    "You can see the backends (simulators and quantum computers) available to you [here](https://quantum-computing.ibm.com/services/resources?tab=yours).\n",
    "\n",
    "You can also see the backends (quantum computers) through the command line:"
   ]
  },
  {
   "cell_type": "code",
   "execution_count": 10,
   "id": "41efd68a-7f95-484f-bf80-7646a571c11c",
   "metadata": {},
   "outputs": [
    {
     "name": "stdout",
     "output_type": "stream",
     "text": [
      "ibm_perth                    ibm_nairobi                  ibm_lagos\n",
      "---------                    -----------                  ---------\n",
      "Num. Qubits:  7              Num. Qubits:  7              Num. Qubits:  7\n",
      "Pending Jobs: 92             Pending Jobs: 138            Pending Jobs: 1515\n",
      "Least busy:   False          Least busy:   False          Least busy:   False\n",
      "Operational:  True           Operational:  True           Operational:  True\n",
      "Avg. T1:      143.5          Avg. T1:      111.9          Avg. T1:      145.4\n",
      "Avg. T2:      118.6          Avg. T2:      80.1           Avg. T2:      72.2\n",
      "\n",
      "\n",
      "\n",
      "ibmq_manila                  ibmq_jakarta                 ibmq_quito\n",
      "-----------                  ------------                 ----------\n",
      "Num. Qubits:  5              Num. Qubits:  7              Num. Qubits:  5\n",
      "Pending Jobs: 1390           Pending Jobs: 1231           Pending Jobs: 39\n",
      "Least busy:   False          Least busy:   False          Least busy:   True\n",
      "Operational:  True           Operational:  True           Operational:  True\n",
      "Avg. T1:      131.9          Avg. T1:      135.0          Avg. T1:      106.2\n",
      "Avg. T2:      64.4           Avg. T2:      47.5           Avg. T2:      82.6\n",
      "\n",
      "\n",
      "\n",
      "ibmq_belem                   ibmq_lima\n",
      "----------                   ---------\n",
      "Num. Qubits:  5              Num. Qubits:  5\n",
      "Pending Jobs: 63             Pending Jobs: 154\n",
      "Least busy:   False          Least busy:   False\n",
      "Operational:  True           Operational:  True\n",
      "Avg. T1:      85.9           Avg. T1:      64.0\n",
      "Avg. T2:      100.8          Avg. T2:      75.9\n",
      "\n",
      "\n",
      "\n"
     ]
    }
   ],
   "source": [
    "from qiskit.tools.monitor import backend_overview \n",
    "backend_overview()"
   ]
  },
  {
   "cell_type": "markdown",
   "id": "83e1591b-441c-44da-81fe-62dc16e8cc33",
   "metadata": {},
   "source": [
    "## 2 Running a quantum circuit"
   ]
  },
  {
   "cell_type": "code",
   "execution_count": null,
   "id": "80758e25-57fc-4e54-9540-99e79731c69d",
   "metadata": {},
   "outputs": [],
   "source": [
    "from qiskit import *\n",
    "from qiskit.tools.visualization import plot_histogram\n",
    "from qiskit.tools.monitor import job_monitor"
   ]
  },
  {
   "cell_type": "markdown",
   "id": "96f76905-2d45-4ae8-840d-d1a76db4c99f",
   "metadata": {},
   "source": [
    "### 2.1 Setting up the quantum circuit"
   ]
  },
  {
   "cell_type": "code",
   "execution_count": 4,
   "id": "a08a0ff3-a45d-4840-91e4-bfba4ca2b96e",
   "metadata": {},
   "outputs": [
    {
     "data": {
      "image/png": "[encoded data removed]",
      "text/plain": [
       "<Figure size 454.517x284.278 with 1 Axes>"
      ]
     },
     "execution_count": 4,
     "metadata": {},
     "output_type": "execute_result"
    }
   ],
   "source": [
    "circuit = QuantumCircuit(2,2)\n",
    "\n",
    "circuit.h(0)\n",
    "circuit.cx(0, 1)\n",
    "circuit.measure(0,0)\n",
    "circuit.measure(1,1)\n",
    "\n",
    "%matplotlib inline\n",
    "circuit.draw(output='mpl')"
   ]
  },
  {
   "cell_type": "markdown",
   "id": "0c4bd3d5-ecce-4d0e-9837-888014f5fd6b",
   "metadata": {},
   "source": [
    "### 2.2 Run circuit using a simulator\n",
    "\n",
    "https://qiskit.org/documentation/tutorials/simulators/1_aer_provider.html\n",
    "\n",
    "https://learn.qiskit.org/summer-school/2022/methods-quantum-simulation"
   ]
  },
  {
   "cell_type": "markdown",
   "id": "3003dbc5-faf6-459e-aba3-66c9dfc855ca",
   "metadata": {},
   "source": [
    "#### 2.2.1 Load backend"
   ]
  },
  {
   "cell_type": "code",
   "execution_count": 16,
   "id": "3d5ed041-d967-44e2-8d44-6e24c5d35bb3",
   "metadata": {},
   "outputs": [],
   "source": [
    "backend_sim = Aer.get_backend('qasm_simulator')"
   ]
  },
  {
   "cell_type": "markdown",
   "id": "d728fec0-6e76-428f-bdc3-88d126ab68e2",
   "metadata": {},
   "source": [
    "#### 2.2.2 Run the circuit"
   ]
  },
  {
   "cell_type": "code",
   "execution_count": 17,
   "id": "89ce6689-e652-458a-900b-be4bb9d2e122",
   "metadata": {},
   "outputs": [],
   "source": [
    "result_sim = execute(circuit, backend=backend_sim, shots = 1024).result()"
   ]
  },
  {
   "cell_type": "markdown",
   "id": "e0e0f7b8-6b6f-4a38-a506-6cd8f8008a5f",
   "metadata": {},
   "source": [
    "#### 2.2.3 Get the results"
   ]
  },
  {
   "cell_type": "code",
   "execution_count": 18,
   "id": "3abd310c-544b-47c9-85fe-e0007bfd3e9a",
   "metadata": {},
   "outputs": [
    {
     "data": {
      "image/png": "[encoded data removed]",
      "text/plain": [
       "<Figure size 700x500 with 1 Axes>"
      ]
     },
     "execution_count": 18,
     "metadata": {},
     "output_type": "execute_result"
    }
   ],
   "source": [
    "counts_sim = result_sim.get_counts()\n",
    "plot_histogram(counts_sim)"
   ]
  },
  {
   "cell_type": "markdown",
   "id": "6c251c14-a0d4-4fc3-a369-0888c45eef69",
   "metadata": {},
   "source": [
    "### 2.3 Run circuit using a quantum computer"
   ]
  },
  {
   "cell_type": "markdown",
   "id": "15917e50-f6e6-4476-8732-0e1a24b0be9a",
   "metadata": {},
   "source": [
    "#### 2.3.1 Load backend"
   ]
  },
  {
   "cell_type": "code",
   "execution_count": 21,
   "id": "7610f1c5-a754-4a50-88d6-88c9bc768469",
   "metadata": {},
   "outputs": [],
   "source": [
    "IBMQ.load_account()\n",
    "provider = IBMQ.get_provider(hub='ibm-q', group='open', project='main')\n",
    "backend_qc = provider.get_backend('ibmq_belem')"
   ]
  },
  {
   "cell_type": "markdown",
   "id": "6320dbeb-dd25-41ce-a575-5265d1ce0054",
   "metadata": {},
   "source": [
    "#### 2.3.2 Run the circuit"
   ]
  },
  {
   "cell_type": "code",
   "execution_count": 22,
   "id": "e9ac2b9a-e00d-4470-8d41-58c23ca52790",
   "metadata": {},
   "outputs": [],
   "source": [
    "job = execute(circuit, backend=backend_qc)"
   ]
  },
  {
   "cell_type": "markdown",
   "id": "8eb4c1ba-c297-4586-9c87-e5ec0206b429",
   "metadata": {},
   "source": [
    "#### 2.3.3 Monitoring a Job"
   ]
  },
  {
   "cell_type": "markdown",
   "id": "41b86c3d-e574-4bae-a9ba-bd43bce83640",
   "metadata": {},
   "source": [
    "From command line:"
   ]
  },
  {
   "cell_type": "code",
   "execution_count": null,
   "id": "ab2a583e-00e7-4be7-925b-7c8d16bf0a0a",
   "metadata": {},
   "outputs": [
    {
     "name": "stdout",
     "output_type": "stream",
     "text": [
      "Job Status: job is queued (None)"
     ]
    }
   ],
   "source": [
    "job_monitor(job)"
   ]
  },
  {
   "cell_type": "markdown",
   "id": "583461cf-a037-49ac-8e20-cdfd5f1cc62a",
   "metadata": {},
   "source": [
    "From IBMQ Page:\n",
    "\n",
    "https://quantum-computing.ibm.com/jobs"
   ]
  },
  {
   "cell_type": "markdown",
   "id": "0e69c575-3018-4e2b-9f3e-85d4665aea89",
   "metadata": {},
   "source": [
    "#### 2.3.4 Getting the results"
   ]
  },
  {
   "cell_type": "markdown",
   "id": "2c623b6d-d856-4dd7-82b5-77a47adc56d8",
   "metadata": {
    "tags": []
   },
   "source": [
    "From command line:"
   ]
  },
  {
   "cell_type": "code",
   "execution_count": null,
   "id": "17d7a258-8c4a-486e-af27-5edcf9b212cc",
   "metadata": {},
   "outputs": [],
   "source": [
    "result_qc = job.result()\n",
    "counts_qc = result_qc.get_counts(circuit)\n",
    "plot_histogram(counts_qc)"
   ]
  },
  {
   "cell_type": "markdown",
   "id": "4911ef42-1151-43c4-92e4-655479478abc",
   "metadata": {},
   "source": [
    "From IBMQ Webpage:\n",
    "\n",
    "1. Natigate to https://quantum-computing.ibm.com/jobs\n",
    "2. Double click on the job you want to see"
   ]
  },
  {
   "cell_type": "markdown",
   "id": "4dd5f46e-675b-4ff6-bb62-75a76e5e77aa",
   "metadata": {},
   "source": [
    "## 3 Resources"
   ]
  },
  {
   "cell_type": "markdown",
   "id": "143a9d2a-3784-4329-a947-dce30893e1d7",
   "metadata": {},
   "source": [
    "Textbook and Tutorials for Qiskit - https://qiskit.org/learn/\n",
    "\n",
    "IBM Quantum - https://quantum-computing.ibm.com/\n",
    "\n",
    "GitHub - https://github.com/Qiskit\n",
    "\n",
    "Videos - https://www.youtube.com/@qiskit/playlists\n"
   ]
  }
 ],
 "metadata": {
  "kernelspec": {
   "display_name": "Python 3 (ipykernel)",
   "language": "python",
   "name": "python3"
  },
  "language_info": {
   "codemirror_mode": {
    "name": "ipython",
    "version": 3
   },
   "file_extension": ".py",
   "mimetype": "text/x-python",
   "name": "python",
   "nbconvert_exporter": "python",
   "pygments_lexer": "ipython3",
   "version": "3.8.5"
  }
 },
 "nbformat": 4,
 "nbformat_minor": 5
}
