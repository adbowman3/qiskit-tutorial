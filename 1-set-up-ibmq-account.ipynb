{
 "cells": [
  {
   "cell_type": "markdown",
   "id": "e9c49867-738a-4168-8ef3-7ca88922f305",
   "metadata": {
    "tags": []
   },
   "source": [
    "# IBM Quantum Experience"
   ]
  },
  {
   "cell_type": "markdown",
   "id": "d3f1aeb3-3fda-4431-a310-06a50872c053",
   "metadata": {},
   "source": [
    "Last Updated: 08/08/2023 \\\n",
    "by Amanda Bowman\n",
    "\n",
    "<sub>Note: Qiskit is updated frequently and the method to set up or load an IBMQ account may have changed since this document was last updated.</sub>"
   ]
  },
  {
   "cell_type": "markdown",
   "id": "a2cb8ae8-d797-41f2-a242-4545ecb8e01c",
   "metadata": {},
   "source": [
    "0-set-up-ibmq-account.ipynb will walk you through how to set up and IBM Quantum account and run a circuit on a quantum computer using Qiskit. As well as discuss some of the features of Qiskit that allows you to add noise to simulations and implement error mitigation for real quantum hardware.\n",
    "\n"
   ]
  },
  {
   "cell_type": "markdown",
   "id": "a15040e6-77d3-4faf-be5f-7bea65524ce0",
   "metadata": {},
   "source": [
    "## 1 Setting up an IBMQ account\n",
    "IBM provided a [YouTube video](https://www.youtube.com/watch?v=1kRfHNUbkrg&t=0s) on how to set up an account with IBMQ. I reccomend watching the video and using this notebook to run the commands referenced in the video."
   ]
  },
  {
   "cell_type": "markdown",
   "id": "d28195fa-eee7-4ae0-bf4f-047a275f9b76",
   "metadata": {
    "tags": []
   },
   "source": [
    "### 1.1 Setting up IBMQ Account on the Cloud"
   ]
  },
  {
   "cell_type": "markdown",
   "id": "c86c528c-9951-4b95-90e2-a01727f51369",
   "metadata": {},
   "source": [
    "#### 1.1.1 Navitage to the [IBM Quantum Webpage](https://quantum-computing.ibm.com/) and follow the instructions to create an account."
   ]
  },
  {
   "cell_type": "markdown",
   "id": "349e3e50-b0bb-4ead-82c3-cd98b278543a",
   "metadata": {
    "tags": []
   },
   "source": [
    "### 1.2 Setting up IBMQ Account Locally"
   ]
  },
  {
   "cell_type": "markdown",
   "id": "46130a2f-fc91-4511-b2f0-9736c61d6e84",
   "metadata": {},
   "source": [
    "#### 1.2.1 Create a virtual environemnt with Anaconda\n",
    "\n",
    "<sub>Note: Though it is not necessary to do this step and it can be skipped, I recommend setting up a virtual enviroment so you can keep track of and manage versions of packages you may want to use with Qiskit. Read [this webpage](https://csguide.cs.princeton.edu/software/virtualenv) to learn about virtual environments and why you should use them.</sub>"
   ]
  },
  {
   "cell_type": "code",
   "execution_count": null,
   "id": "33631551-012b-41f8-ac7c-462674f3a405",
   "metadata": {},
   "outputs": [],
   "source": []
  },
  {
   "cell_type": "markdown",
   "id": "4db863e9-b7f4-43c1-ba7a-f3dd8a9525e6",
   "metadata": {
    "tags": []
   },
   "source": [
    "#### 1.2.2 Install lasest version of Python into virtual environment"
   ]
  },
  {
   "cell_type": "code",
   "execution_count": null,
   "id": "cbbcf2c9-48f9-45ef-b383-8ae2eb3a11bc",
   "metadata": {},
   "outputs": [],
   "source": []
  },
  {
   "cell_type": "markdown",
   "id": "62f9b816-db9c-4126-9f87-1ac7fa990ef7",
   "metadata": {},
   "source": [
    "#### 1.2.3 Install Qiskit into virtual environment"
   ]
  },
  {
   "cell_type": "code",
   "execution_count": 3,
   "id": "4877bbb5-b0c8-4d91-a40f-4b96e6d56205",
   "metadata": {},
   "outputs": [],
   "source": [
    "pip install qiskit"
   ]
  },
  {
   "cell_type": "markdown",
   "id": "4c59475f-7e46-4d15-a08f-ba2a13df02ea",
   "metadata": {
    "tags": []
   },
   "source": [
    "#### 1.2.4 Store account information"
   ]
  },
  {
   "cell_type": "code",
   "execution_count": 7,
   "id": "9bd7e1f7-e103-4f67-a8b0-edf22ee6d916",
   "metadata": {},
   "outputs": [],
   "source": [
    "import qiskit\n",
    "from qiskit import IBMQ"
   ]
  },
  {
   "cell_type": "markdown",
   "id": "cd774454-4aa9-474b-b8ed-4dfc5c00b805",
   "metadata": {},
   "source": [
    "Replace \\<API token\\> with your API token which you can find on the [IBM Quantum Webpage](https://quantum-computing.ibm.com/)."
   ]
  },
  {
   "cell_type": "code",
   "execution_count": null,
   "id": "8d94517d-c321-4b6b-bf2f-ed31e7c4252b",
   "metadata": {},
   "outputs": [],
   "source": [
    "IBMQ.save_account(‘<API token>’)"
   ]
  },
  {
   "cell_type": "markdown",
   "id": "b318eaad-6076-42ab-a575-7b03770c3ca5",
   "metadata": {
    "tags": []
   },
   "source": [
    "#### 1.2.5 Load account"
   ]
  },
  {
   "cell_type": "code",
   "execution_count": 9,
   "id": "9f09d1a0-eac7-4b16-b146-497313ddbdda",
   "metadata": {},
   "outputs": [
    {
     "name": "stderr",
     "output_type": "stream",
     "text": [
      "/var/folders/tb/t8qqy0cj4qsgf1zcbpdjb1940000gp/T/ipykernel_11042/485379158.py:1: DeprecationWarning: The qiskit.IBMQ entrypoint and the qiskit-ibmq-provider package (accessible from 'qiskit.providers.ibmq`) are deprecated and will be removed in a future release. Instead you should use the qiskit-ibm-provider package which is accessible from 'qiskit_ibm_provider'. You can install it with 'pip install qiskit_ibm_provider'. Just replace 'qiskit.IBMQ' with 'qiskit_ibm_provider.IBMProvider'\n",
      "  IBMQ.load_account()\n"
     ]
    },
    {
     "data": {
      "text/plain": [
       "<AccountProvider for IBMQ(hub='ibm-q', group='open', project='main')>"
      ]
     },
     "execution_count": 9,
     "metadata": {},
     "output_type": "execute_result"
    }
   ],
   "source": [
    "IBMQ.load_account()"
   ]
  },
  {
   "cell_type": "markdown",
   "id": "8b6f59e6-9ee8-4ea5-a824-c85a8f905348",
   "metadata": {},
   "source": [
    "### 1.3 IBMQ Backends"
   ]
  },
  {
   "cell_type": "markdown",
   "id": "b36d2b80-9f09-4fb2-b069-95f9d851662c",
   "metadata": {},
   "source": [
    "You can run your quantum circuits on simulators or real quantum hardware provided by IBMQ.\n",
    "\n",
    "You can see the backends (simulators and quantum computers) available to you [here](https://quantum-computing.ibm.com/services/resources?tab=yours).\n",
    "\n",
    "You can also see the backends (quantum computers) through the command line:"
   ]
  },
  {
   "cell_type": "code",
   "execution_count": 10,
   "id": "41efd68a-7f95-484f-bf80-7646a571c11c",
   "metadata": {},
   "outputs": [
    {
     "name": "stdout",
     "output_type": "stream",
     "text": [
      "ibm_perth                    ibm_nairobi                  ibm_lagos\n",
      "---------                    -----------                  ---------\n",
      "Num. Qubits:  7              Num. Qubits:  7              Num. Qubits:  7\n",
      "Pending Jobs: 92             Pending Jobs: 138            Pending Jobs: 1515\n",
      "Least busy:   False          Least busy:   False          Least busy:   False\n",
      "Operational:  True           Operational:  True           Operational:  True\n",
      "Avg. T1:      143.5          Avg. T1:      111.9          Avg. T1:      145.4\n",
      "Avg. T2:      118.6          Avg. T2:      80.1           Avg. T2:      72.2\n",
      "\n",
      "\n",
      "\n",
      "ibmq_manila                  ibmq_jakarta                 ibmq_quito\n",
      "-----------                  ------------                 ----------\n",
      "Num. Qubits:  5              Num. Qubits:  7              Num. Qubits:  5\n",
      "Pending Jobs: 1390           Pending Jobs: 1231           Pending Jobs: 39\n",
      "Least busy:   False          Least busy:   False          Least busy:   True\n",
      "Operational:  True           Operational:  True           Operational:  True\n",
      "Avg. T1:      131.9          Avg. T1:      135.0          Avg. T1:      106.2\n",
      "Avg. T2:      64.4           Avg. T2:      47.5           Avg. T2:      82.6\n",
      "\n",
      "\n",
      "\n",
      "ibmq_belem                   ibmq_lima\n",
      "----------                   ---------\n",
      "Num. Qubits:  5              Num. Qubits:  5\n",
      "Pending Jobs: 63             Pending Jobs: 154\n",
      "Least busy:   False          Least busy:   False\n",
      "Operational:  True           Operational:  True\n",
      "Avg. T1:      85.9           Avg. T1:      64.0\n",
      "Avg. T2:      100.8          Avg. T2:      75.9\n",
      "\n",
      "\n",
      "\n"
     ]
    }
   ],
   "source": [
    "from qiskit.tools.monitor import backend_overview \n",
    "backend_overview()"
   ]
  },
  {
   "cell_type": "markdown",
   "id": "83e1591b-441c-44da-81fe-62dc16e8cc33",
   "metadata": {},
   "source": [
    "## 2 Running a quantum circuit"
   ]
  },
  {
   "cell_type": "markdown",
   "id": "96f76905-2d45-4ae8-840d-d1a76db4c99f",
   "metadata": {},
   "source": [
    "### 2.1 Setting up the quantum circuit"
   ]
  },
  {
   "cell_type": "markdown",
   "id": "0c4bd3d5-ecce-4d0e-9837-888014f5fd6b",
   "metadata": {},
   "source": [
    "#### 2.2.1 Using a simulator\n",
    "\n",
    "https://qiskit.org/documentation/tutorials/simulators/1_aer_provider.html\n",
    "\n",
    "https://learn.qiskit.org/summer-school/2022/methods-quantum-simulation"
   ]
  },
  {
   "cell_type": "markdown",
   "id": "6c251c14-a0d4-4fc3-a369-0888c45eef69",
   "metadata": {},
   "source": [
    "#### 2.2.2 Using a quantum computer"
   ]
  },
  {
   "cell_type": "markdown",
   "id": "f85a835e-1cd4-44fb-8df3-1e670e938adf",
   "metadata": {},
   "source": [
    "### 2.2 Running the quantum circuit"
   ]
  },
  {
   "cell_type": "markdown",
   "id": "8eb4c1ba-c297-4586-9c87-e5ec0206b429",
   "metadata": {},
   "source": [
    "### 2.3 Monitoring a Job"
   ]
  },
  {
   "cell_type": "markdown",
   "id": "0e69c575-3018-4e2b-9f3e-85d4665aea89",
   "metadata": {},
   "source": [
    "### 2.4 Getting the results"
   ]
  },
  {
   "cell_type": "markdown",
   "id": "2c623b6d-d856-4dd7-82b5-77a47adc56d8",
   "metadata": {
    "jp-MarkdownHeadingCollapsed": true,
    "tags": []
   },
   "source": [
    "#### 2.4.1 From the command line"
   ]
  },
  {
   "cell_type": "markdown",
   "id": "4911ef42-1151-43c4-92e4-655479478abc",
   "metadata": {},
   "source": [
    "#### 2.4.2 From the IBMQ Webpage"
   ]
  },
  {
   "cell_type": "markdown",
   "id": "6aa5fa47-7634-4b54-9723-9d4072c1cbd2",
   "metadata": {},
   "source": []
  },
  {
   "cell_type": "markdown",
   "id": "0be4eb60-a031-4cf7-bc52-1c5b4cc4a106",
   "metadata": {},
   "source": []
  },
  {
   "cell_type": "markdown",
   "id": "00eca36c-d8ec-475d-9cc2-239df031367f",
   "metadata": {},
   "source": []
  },
  {
   "cell_type": "markdown",
   "id": "a43e1474-7ca2-4add-88aa-157f1397499e",
   "metadata": {},
   "source": []
  },
  {
   "cell_type": "markdown",
   "id": "4dd5f46e-675b-4ff6-bb62-75a76e5e77aa",
   "metadata": {},
   "source": [
    "## 3 Resources"
   ]
  },
  {
   "cell_type": "markdown",
   "id": "143a9d2a-3784-4329-a947-dce30893e1d7",
   "metadata": {},
   "source": [
    "Textbook and Tutorials for Qiskit - https://qiskit.org/learn/\n",
    "\n",
    "IBM Quantum - https://quantum-computing.ibm.com/\n",
    "\n",
    "GitHub - https://github.com/Qiskit\n",
    "\n",
    "Videos - https://www.youtube.com/@qiskit/playlists\n"
   ]
  },
  {
   "cell_type": "code",
   "execution_count": null,
   "id": "75b8ad0a-806f-413f-bf6f-496dd771c4c2",
   "metadata": {},
   "outputs": [],
   "source": []
  },
  {
   "cell_type": "code",
   "execution_count": null,
   "id": "27ed1dcb-91c4-4929-a277-b576ab5f0d83",
   "metadata": {},
   "outputs": [],
   "source": []
  }
 ],
 "metadata": {
  "kernelspec": {
   "display_name": "Python 3 (ipykernel)",
   "language": "python",
   "name": "python3"
  },
  "language_info": {
   "codemirror_mode": {
    "name": "ipython",
    "version": 3
   },
   "file_extension": ".py",
   "mimetype": "text/x-python",
   "name": "python",
   "nbconvert_exporter": "python",
   "pygments_lexer": "ipython3",
   "version": "3.8.5"
  }
 },
 "nbformat": 4,
 "nbformat_minor": 5
}
