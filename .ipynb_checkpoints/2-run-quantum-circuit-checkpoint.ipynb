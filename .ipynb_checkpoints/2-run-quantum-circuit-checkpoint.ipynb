{
 "cells": [
  {
   "cell_type": "markdown",
   "id": "e9c49867-738a-4168-8ef3-7ca88922f305",
   "metadata": {
    "tags": []
   },
   "source": [
    "# Running a quantum circuit with Qiskit"
   ]
  },
  {
   "cell_type": "markdown",
   "id": "fa3f7b4f-05b3-4b47-804b-7d4e79b84700",
   "metadata": {},
   "source": [
    "You can run your quantum circuits on simulators or real quantum hardware provided by IBMQ. You can see the backends (simulators and quantum computers) available to you [here](https://quantum-computing.ibm.com/services/resources?tab=yours).\n",
    "\n",
    "<sub>Note: Qiskit is updated frequently and the method to load an IBMQ account may have changed since this document was last updated.</sub>"
   ]
  },
  {
   "cell_type": "markdown",
   "id": "96f76905-2d45-4ae8-840d-d1a76db4c99f",
   "metadata": {},
   "source": [
    "## 1 Setting up the quantum circuit"
   ]
  },
  {
   "cell_type": "code",
   "execution_count": null,
   "id": "1e444f0b-e8c5-492d-a653-70da2cc3d850",
   "metadata": {},
   "outputs": [],
   "source": [
    "from qiskit import *\n",
    "from qiskit.tools.visualization import plot_histogram, backend_overview \n",
    "from qiskit.tools.monitor import job_monitor"
   ]
  },
  {
   "cell_type": "code",
   "execution_count": null,
   "id": "d379d28c-a36f-40f8-b724-c16e047c64d8",
   "metadata": {},
   "outputs": [],
   "source": [
    "circuit = QuantumCircuit(2,2)\n",
    "\n",
    "circuit.h(0)\n",
    "circuit.cx(0, 1)\n",
    "circuit.measure(0,0)\n",
    "circuit.measure(1,1)\n",
    "\n",
    "%matplotlib inline\n",
    "circuit.draw(output='mpl')"
   ]
  },
  {
   "cell_type": "markdown",
   "id": "0c4bd3d5-ecce-4d0e-9837-888014f5fd6b",
   "metadata": {},
   "source": [
    "## 2 Run circuit on a simulator\n",
    "\n",
    "https://qiskit.org/documentation/tutorials/simulators/1_aer_provider.html\n",
    "\n",
    "https://learn.qiskit.org/summer-school/2022/methods-quantum-simulation"
   ]
  },
  {
   "cell_type": "markdown",
   "id": "3003dbc5-faf6-459e-aba3-66c9dfc855ca",
   "metadata": {},
   "source": [
    "### 2.1 Load backend"
   ]
  },
  {
   "cell_type": "code",
   "execution_count": 16,
   "id": "3d5ed041-d967-44e2-8d44-6e24c5d35bb3",
   "metadata": {},
   "outputs": [],
   "source": [
    "backend_sim = Aer.get_backend('qasm_simulator')"
   ]
  },
  {
   "cell_type": "markdown",
   "id": "d728fec0-6e76-428f-bdc3-88d126ab68e2",
   "metadata": {},
   "source": [
    "### 2.2 Run the circuit"
   ]
  },
  {
   "cell_type": "code",
   "execution_count": 17,
   "id": "89ce6689-e652-458a-900b-be4bb9d2e122",
   "metadata": {},
   "outputs": [],
   "source": [
    "result_sim = execute(circuit, backend=backend_sim, shots = 1024).result()"
   ]
  },
  {
   "cell_type": "markdown",
   "id": "e0e0f7b8-6b6f-4a38-a506-6cd8f8008a5f",
   "metadata": {},
   "source": [
    "### 2.3 Get the results"
   ]
  },
  {
   "cell_type": "code",
   "execution_count": null,
   "id": "7c119fd1-3e58-4764-8989-4071a1b2c210",
   "metadata": {},
   "outputs": [],
   "source": [
    "counts_sim = result_sim.get_counts()\n",
    "plot_histogram(counts_sim)"
   ]
  },
  {
   "cell_type": "markdown",
   "id": "6c251c14-a0d4-4fc3-a369-0888c45eef69",
   "metadata": {},
   "source": [
    "## 3 Run circuit on a quantum computer"
   ]
  },
  {
   "cell_type": "markdown",
   "id": "15917e50-f6e6-4476-8732-0e1a24b0be9a",
   "metadata": {},
   "source": [
    "### 3.1 Load backend"
   ]
  },
  {
   "cell_type": "code",
   "execution_count": null,
   "id": "c1f2e491-8ff7-4fad-9ede-23f14d114bdc",
   "metadata": {},
   "outputs": [],
   "source": [
    "IBMQ.load_account()\n",
    "provider = IBMQ.get_provider(hub='ibm-q', group='open', project='main')"
   ]
  },
  {
   "cell_type": "code",
   "execution_count": null,
   "id": "86b34406-ee06-4cbc-a8dc-68b210378889",
   "metadata": {},
   "outputs": [],
   "source": [
    "backend_overview()"
   ]
  },
  {
   "cell_type": "code",
   "execution_count": 21,
   "id": "7610f1c5-a754-4a50-88d6-88c9bc768469",
   "metadata": {},
   "outputs": [],
   "source": [
    "backend_qc = provider.get_backend('ibmq_belem')"
   ]
  },
  {
   "cell_type": "markdown",
   "id": "6320dbeb-dd25-41ce-a575-5265d1ce0054",
   "metadata": {},
   "source": [
    "### 3.2 Run the circuit"
   ]
  },
  {
   "cell_type": "code",
   "execution_count": 22,
   "id": "e9ac2b9a-e00d-4470-8d41-58c23ca52790",
   "metadata": {},
   "outputs": [],
   "source": [
    "job = execute(circuit, backend=backend_qc)"
   ]
  },
  {
   "cell_type": "markdown",
   "id": "8eb4c1ba-c297-4586-9c87-e5ec0206b429",
   "metadata": {},
   "source": [
    "### 3.3 Monitoring a Job"
   ]
  },
  {
   "cell_type": "markdown",
   "id": "41b86c3d-e574-4bae-a9ba-bd43bce83640",
   "metadata": {},
   "source": [
    "From command line:"
   ]
  },
  {
   "cell_type": "code",
   "execution_count": null,
   "id": "7cbf8823-1541-49ab-b3ec-cfa66c202f1c",
   "metadata": {},
   "outputs": [],
   "source": [
    "job_monitor(job)"
   ]
  },
  {
   "cell_type": "markdown",
   "id": "583461cf-a037-49ac-8e20-cdfd5f1cc62a",
   "metadata": {},
   "source": [
    "From IBMQ Page:\n",
    "\n",
    "https://quantum-computing.ibm.com/jobs"
   ]
  },
  {
   "cell_type": "markdown",
   "id": "0e69c575-3018-4e2b-9f3e-85d4665aea89",
   "metadata": {},
   "source": [
    "### 3.4 Getting the results"
   ]
  },
  {
   "cell_type": "markdown",
   "id": "2c623b6d-d856-4dd7-82b5-77a47adc56d8",
   "metadata": {
    "tags": []
   },
   "source": [
    "From command line:"
   ]
  },
  {
   "cell_type": "code",
   "execution_count": null,
   "id": "17d7a258-8c4a-486e-af27-5edcf9b212cc",
   "metadata": {},
   "outputs": [],
   "source": [
    "result_qc = job.result()\n",
    "counts_qc = result_qc.get_counts(circuit)\n",
    "plot_histogram(counts_qc)"
   ]
  },
  {
   "cell_type": "markdown",
   "id": "4911ef42-1151-43c4-92e4-655479478abc",
   "metadata": {},
   "source": [
    "From IBMQ Webpage:\n",
    "\n",
    "1. Natigate to https://quantum-computing.ibm.com/jobs\n",
    "2. Double click on the job you want to see"
   ]
  },
  {
   "cell_type": "markdown",
   "id": "8ad5c9b4-46ae-4558-815b-ab0456b532aa",
   "metadata": {},
   "source": [
    "## 4 Comparing the results"
   ]
  },
  {
   "cell_type": "markdown",
   "id": "4dd5f46e-675b-4ff6-bb62-75a76e5e77aa",
   "metadata": {},
   "source": [
    "## 5 Resources"
   ]
  },
  {
   "cell_type": "markdown",
   "id": "143a9d2a-3784-4329-a947-dce30893e1d7",
   "metadata": {},
   "source": [
    "Textbook and Tutorials for Qiskit - https://qiskit.org/learn/\n",
    "\n",
    "IBM Quantum - https://quantum-computing.ibm.com/\n",
    "\n",
    "GitHub - https://github.com/Qiskit\n",
    "\n",
    "Videos - https://www.youtube.com/@qiskit/playlists\n"
   ]
  }
 ],
 "metadata": {
  "kernelspec": {
   "display_name": "Python 3 (ipykernel)",
   "language": "python",
   "name": "python3"
  },
  "language_info": {
   "codemirror_mode": {
    "name": "ipython",
    "version": 3
   },
   "file_extension": ".py",
   "mimetype": "text/x-python",
   "name": "python",
   "nbconvert_exporter": "python",
   "pygments_lexer": "ipython3",
   "version": "3.8.5"
  }
 },
 "nbformat": 4,
 "nbformat_minor": 5
}
