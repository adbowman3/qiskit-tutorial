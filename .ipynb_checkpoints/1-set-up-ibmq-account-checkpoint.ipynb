{
 "cells": [
  {
   "cell_type": "markdown",
   "id": "bea5f9aa-b375-49f7-9595-d0eabf06fe83",
   "metadata": {},
   "source": [
    "0-set-up-ibmq-account.ipynb will walk you through how to set up and IBM Quantum account so you can use their systems to run quantum circuits on simulators and quantum computers.\n",
    "\n",
    "Last Updated: 08/08/2023 \\\n",
    "by Amanda Bowman\n",
    "\n",
    "<sub>Note: Qiskit is updated frequently and the method to set up or load an IBMQ account may have changed since this document was last updated.</sub>"
   ]
  },
  {
   "cell_type": "markdown",
   "id": "e9c49867-738a-4168-8ef3-7ca88922f305",
   "metadata": {
    "tags": []
   },
   "source": [
    "# Setting up an account with IBM Quantum Experience"
   ]
  },
  {
   "cell_type": "markdown",
   "id": "a15040e6-77d3-4faf-be5f-7bea65524ce0",
   "metadata": {},
   "source": [
    "## 1 Setting up an IBMQ account\n",
    "IBM provided a [YouTube video](https://www.youtube.com/watch?v=1kRfHNUbkrg&t=0s) on how to set up an account with IBMQ. I reccomend watching the video and using this notebook to run the commands referenced in the video."
   ]
  },
  {
   "cell_type": "markdown",
   "id": "d28195fa-eee7-4ae0-bf4f-047a275f9b76",
   "metadata": {
    "tags": []
   },
   "source": [
    "### 1.1 Setting up IBMQ Account on the Cloud"
   ]
  },
  {
   "cell_type": "markdown",
   "id": "c86c528c-9951-4b95-90e2-a01727f51369",
   "metadata": {},
   "source": [
    "#### 1.1.1 Navitage to the [IBM Quantum Webpage](https://quantum-computing.ibm.com/) and follow the instructions to create an account."
   ]
  },
  {
   "cell_type": "markdown",
   "id": "349e3e50-b0bb-4ead-82c3-cd98b278543a",
   "metadata": {
    "tags": []
   },
   "source": [
    "### 1.2 Setting up IBMQ Account Locally"
   ]
  },
  {
   "cell_type": "markdown",
   "id": "c8113bf2-e47e-4073-97b5-2ac07c98b5cc",
   "metadata": {
    "tags": []
   },
   "source": [
    "#### Check Python version\n",
    "\n",
    "Check [Qiskit documentation](https://qiskit.org/documentation/getting_started.html) to see which versions of Python are supported.\n",
    "\n",
    "Then check if you have the version of Python you want installed:"
   ]
  },
  {
   "cell_type": "code",
   "execution_count": 1,
   "id": "3c6f63a7-d940-45a4-92cf-4ce32d835262",
   "metadata": {},
   "outputs": [
    {
     "name": "stdout",
     "output_type": "stream",
     "text": [
      "\n",
      "     active environment : base\n",
      "    active env location : /Users/Mandy/opt/anaconda3\n",
      "            shell level : 1\n",
      "       user config file : /Users/Mandy/.condarc\n",
      " populated config files : /Users/Mandy/.condarc\n",
      "          conda version : 23.7.2\n",
      "    conda-build version : 3.20.5\n",
      "         python version : 3.8.5.final.0\n",
      "       virtual packages : __archspec=1=x86_64\n",
      "                          __osx=10.16=0\n",
      "                          __unix=0=0\n",
      "       base environment : /Users/Mandy/opt/anaconda3  (writable)\n",
      "      conda av data dir : /Users/Mandy/opt/anaconda3/etc/conda\n",
      "  conda av metadata url : None\n",
      "           channel URLs : https://repo.anaconda.com/pkgs/main/osx-64\n",
      "                          https://repo.anaconda.com/pkgs/main/noarch\n",
      "                          https://repo.anaconda.com/pkgs/r/osx-64\n",
      "                          https://repo.anaconda.com/pkgs/r/noarch\n",
      "          package cache : /Users/Mandy/opt/anaconda3/pkgs\n",
      "                          /Users/Mandy/.conda/pkgs\n",
      "       envs directories : /Users/Mandy/opt/anaconda3/envs\n",
      "                          /Users/Mandy/.conda/envs\n",
      "               platform : osx-64\n",
      "             user-agent : conda/23.7.2 requests/2.31.0 CPython/3.8.5 Darwin/22.5.0 OSX/10.16\n",
      "                UID:GID : 502:20\n",
      "             netrc file : None\n",
      "           offline mode : False\n",
      "\n",
      "\n",
      "\n",
      "Note: you may need to restart the kernel to use updated packages.\n"
     ]
    }
   ],
   "source": [
    "conda info"
   ]
  },
  {
   "cell_type": "markdown",
   "id": "2fb3a54a-46e2-4650-9d10-2daef091a5e7",
   "metadata": {},
   "source": [
    "Install new Python version if you don't have the version you want.\n",
    "\n",
    "Replace \\<version\\> with the version of Python you want to use. "
   ]
  },
  {
   "cell_type": "code",
   "execution_count": null,
   "id": "93a060ba-14fc-4f72-a74e-b4898f6c3065",
   "metadata": {},
   "outputs": [],
   "source": [
    "conda install python=<version>"
   ]
  },
  {
   "cell_type": "markdown",
   "id": "46130a2f-fc91-4511-b2f0-9736c61d6e84",
   "metadata": {
    "tags": []
   },
   "source": [
    "#### 1.2.1 Create a virtual environemnt with Anaconda and install Python\n",
    "\n",
    "<sub>Read [this webpage](https://csguide.cs.princeton.edu/software/virtualenv) to learn about virtual environments and why you should use them.</sub>\n",
    "\n",
    "Replace \\<name-of-environment\\> with your chosen name for the new virtual environemnt.\n",
    "\n",
    "Replace \\<version\\> with the version of Python you want to use. "
   ]
  },
  {
   "cell_type": "code",
   "execution_count": 2,
   "id": "33631551-012b-41f8-ac7c-462674f3a405",
   "metadata": {
    "tags": []
   },
   "outputs": [
    {
     "name": "stdout",
     "output_type": "stream",
     "text": [
      "zsh:1: no such file or directory: name-of-environment\n",
      "\n",
      "Note: you may need to restart the kernel to use updated packages.\n"
     ]
    }
   ],
   "source": [
    "conda create -n <name-of-environment> python=<version> anaconda"
   ]
  },
  {
   "cell_type": "markdown",
   "id": "d92da888-1ccc-483d-8c94-2a5be8037cde",
   "metadata": {},
   "source": [
    "Shut down this kernel and reopen in the new virtual environment."
   ]
  },
  {
   "cell_type": "markdown",
   "id": "62f9b816-db9c-4126-9f87-1ac7fa990ef7",
   "metadata": {},
   "source": [
    "#### 1.2.3 Install Qiskit into virtual environment"
   ]
  },
  {
   "cell_type": "code",
   "execution_count": 3,
   "id": "4877bbb5-b0c8-4d91-a40f-4b96e6d56205",
   "metadata": {},
   "outputs": [],
   "source": [
    "pip install qiskit"
   ]
  },
  {
   "cell_type": "markdown",
   "id": "4c59475f-7e46-4d15-a08f-ba2a13df02ea",
   "metadata": {
    "tags": []
   },
   "source": [
    "#### 1.2.4 Store account information"
   ]
  },
  {
   "cell_type": "code",
   "execution_count": 7,
   "id": "9bd7e1f7-e103-4f67-a8b0-edf22ee6d916",
   "metadata": {},
   "outputs": [],
   "source": [
    "import qiskit\n",
    "from qiskit import IBMQ"
   ]
  },
  {
   "cell_type": "markdown",
   "id": "cd774454-4aa9-474b-b8ed-4dfc5c00b805",
   "metadata": {},
   "source": [
    "Replace \\<API token\\> with your API token which you can find on the [IBM Quantum Webpage](https://quantum-computing.ibm.com/)."
   ]
  },
  {
   "cell_type": "code",
   "execution_count": null,
   "id": "8d94517d-c321-4b6b-bf2f-ed31e7c4252b",
   "metadata": {},
   "outputs": [],
   "source": [
    "IBMQ.save_account(‘<API token>’)"
   ]
  },
  {
   "cell_type": "markdown",
   "id": "b318eaad-6076-42ab-a575-7b03770c3ca5",
   "metadata": {
    "tags": []
   },
   "source": [
    "#### 1.2.5 Load account"
   ]
  },
  {
   "cell_type": "code",
   "execution_count": 9,
   "id": "9f09d1a0-eac7-4b16-b146-497313ddbdda",
   "metadata": {},
   "outputs": [
    {
     "name": "stderr",
     "output_type": "stream",
     "text": [
      "/var/folders/tb/t8qqy0cj4qsgf1zcbpdjb1940000gp/T/ipykernel_11042/485379158.py:1: DeprecationWarning: The qiskit.IBMQ entrypoint and the qiskit-ibmq-provider package (accessible from 'qiskit.providers.ibmq`) are deprecated and will be removed in a future release. Instead you should use the qiskit-ibm-provider package which is accessible from 'qiskit_ibm_provider'. You can install it with 'pip install qiskit_ibm_provider'. Just replace 'qiskit.IBMQ' with 'qiskit_ibm_provider.IBMProvider'\n",
      "  IBMQ.load_account()\n"
     ]
    },
    {
     "data": {
      "text/plain": [
       "<AccountProvider for IBMQ(hub='ibm-q', group='open', project='main')>"
      ]
     },
     "execution_count": 9,
     "metadata": {},
     "output_type": "execute_result"
    }
   ],
   "source": [
    "IBMQ.load_account()"
   ]
  },
  {
   "cell_type": "markdown",
   "id": "8b6f59e6-9ee8-4ea5-a824-c85a8f905348",
   "metadata": {},
   "source": [
    "### 1.3 IBMQ Backends"
   ]
  },
  {
   "cell_type": "markdown",
   "id": "b36d2b80-9f09-4fb2-b069-95f9d851662c",
   "metadata": {},
   "source": [
    "You can run your quantum circuits on simulators or real quantum hardware provided by IBMQ.\n",
    "\n",
    "You can see the backends (simulators and quantum computers) available to you [here](https://quantum-computing.ibm.com/services/resources?tab=yours).\n",
    "\n",
    "You can also see the backends (quantum computers) through the command line:"
   ]
  },
  {
   "cell_type": "code",
   "execution_count": 10,
   "id": "41efd68a-7f95-484f-bf80-7646a571c11c",
   "metadata": {},
   "outputs": [
    {
     "name": "stdout",
     "output_type": "stream",
     "text": [
      "ibm_perth                    ibm_nairobi                  ibm_lagos\n",
      "---------                    -----------                  ---------\n",
      "Num. Qubits:  7              Num. Qubits:  7              Num. Qubits:  7\n",
      "Pending Jobs: 92             Pending Jobs: 138            Pending Jobs: 1515\n",
      "Least busy:   False          Least busy:   False          Least busy:   False\n",
      "Operational:  True           Operational:  True           Operational:  True\n",
      "Avg. T1:      143.5          Avg. T1:      111.9          Avg. T1:      145.4\n",
      "Avg. T2:      118.6          Avg. T2:      80.1           Avg. T2:      72.2\n",
      "\n",
      "\n",
      "\n",
      "ibmq_manila                  ibmq_jakarta                 ibmq_quito\n",
      "-----------                  ------------                 ----------\n",
      "Num. Qubits:  5              Num. Qubits:  7              Num. Qubits:  5\n",
      "Pending Jobs: 1390           Pending Jobs: 1231           Pending Jobs: 39\n",
      "Least busy:   False          Least busy:   False          Least busy:   True\n",
      "Operational:  True           Operational:  True           Operational:  True\n",
      "Avg. T1:      131.9          Avg. T1:      135.0          Avg. T1:      106.2\n",
      "Avg. T2:      64.4           Avg. T2:      47.5           Avg. T2:      82.6\n",
      "\n",
      "\n",
      "\n",
      "ibmq_belem                   ibmq_lima\n",
      "----------                   ---------\n",
      "Num. Qubits:  5              Num. Qubits:  5\n",
      "Pending Jobs: 63             Pending Jobs: 154\n",
      "Least busy:   False          Least busy:   False\n",
      "Operational:  True           Operational:  True\n",
      "Avg. T1:      85.9           Avg. T1:      64.0\n",
      "Avg. T2:      100.8          Avg. T2:      75.9\n",
      "\n",
      "\n",
      "\n"
     ]
    }
   ],
   "source": [
    "from qiskit.tools.monitor import backend_overview \n",
    "backend_overview()"
   ]
  },
  {
   "cell_type": "markdown",
   "id": "4dd5f46e-675b-4ff6-bb62-75a76e5e77aa",
   "metadata": {},
   "source": [
    "## 2 Resources"
   ]
  },
  {
   "cell_type": "markdown",
   "id": "143a9d2a-3784-4329-a947-dce30893e1d7",
   "metadata": {},
   "source": [
    "Textbook and Tutorials for Qiskit - https://qiskit.org/learn/\n",
    "\n",
    "IBM Quantum - https://quantum-computing.ibm.com/\n",
    "\n",
    "GitHub - https://github.com/Qiskit\n",
    "\n",
    "Videos - https://www.youtube.com/@qiskit/playlists\n"
   ]
  }
 ],
 "metadata": {
  "kernelspec": {
   "display_name": "Python 3 (ipykernel)",
   "language": "python",
   "name": "python3"
  },
  "language_info": {
   "codemirror_mode": {
    "name": "ipython",
    "version": 3
   },
   "file_extension": ".py",
   "mimetype": "text/x-python",
   "name": "python",
   "nbconvert_exporter": "python",
   "pygments_lexer": "ipython3",
   "version": "3.8.5"
  }
 },
 "nbformat": 4,
 "nbformat_minor": 5
}
