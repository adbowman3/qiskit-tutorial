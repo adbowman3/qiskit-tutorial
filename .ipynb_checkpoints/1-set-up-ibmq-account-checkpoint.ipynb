{
 "cells": [
  {
   "cell_type": "markdown",
   "id": "bea5f9aa-b375-49f7-9595-d0eabf06fe83",
   "metadata": {},
   "source": [
    "0-set-up-ibmq-account.ipynb will walk you through how to set up and IBM Quantum account so you can use their systems to run quantum circuits on simulators and quantum computers.\n",
    "\n",
    "Last Updated: 08/08/2023 \\\n",
    "by Amanda Bowman\n",
    "\n",
    "<sub>Note: Qiskit is updated frequently and the method to set up or load an IBMQ account may have changed since this document was last updated.</sub>"
   ]
  },
  {
   "cell_type": "markdown",
   "id": "e9c49867-738a-4168-8ef3-7ca88922f305",
   "metadata": {
    "tags": []
   },
   "source": [
    "# Setting up an account with IBM Quantum Experience"
   ]
  },
  {
   "cell_type": "markdown",
   "id": "a15040e6-77d3-4faf-be5f-7bea65524ce0",
   "metadata": {},
   "source": [
    "## 1 Setting up an IBMQ account\n",
    "IBM provided a [YouTube video](https://www.youtube.com/watch?v=1kRfHNUbkrg&t=0s) on how to set up an account with IBMQ. I reccomend watching the video and using this notebook to run the commands referenced in the video."
   ]
  },
  {
   "cell_type": "markdown",
   "id": "d28195fa-eee7-4ae0-bf4f-047a275f9b76",
   "metadata": {
    "tags": []
   },
   "source": [
    "### 1.1 Setting up IBMQ Account on the Cloud"
   ]
  },
  {
   "cell_type": "markdown",
   "id": "c86c528c-9951-4b95-90e2-a01727f51369",
   "metadata": {},
   "source": [
    "#### Navitage to the [IBM Quantum Webpage](https://quantum-computing.ibm.com/) and follow the instructions to create an account."
   ]
  },
  {
   "cell_type": "markdown",
   "id": "349e3e50-b0bb-4ead-82c3-cd98b278543a",
   "metadata": {
    "tags": []
   },
   "source": [
    "### 1.2 Setting up IBMQ Account Locally"
   ]
  },
  {
   "cell_type": "markdown",
   "id": "62f9b816-db9c-4126-9f87-1ac7fa990ef7",
   "metadata": {},
   "source": [
    "#### Install Qiskit into virtual environment"
   ]
  },
  {
   "cell_type": "markdown",
   "id": "63ea38e2-6284-44f8-ae2c-acef658eac51",
   "metadata": {},
   "source": [
    "Verify you are in the correct environment"
   ]
  },
  {
   "cell_type": "code",
   "execution_count": 2,
   "id": "cd2dfc08-4da8-45e5-a554-823b791ece03",
   "metadata": {},
   "outputs": [
    {
     "name": "stdout",
     "output_type": "stream",
     "text": [
      "# conda environments:\n",
      "#\n",
      "base                     /Users/Mandy/opt/anaconda3\n",
      "PyEnv                    /Users/Mandy/opt/anaconda3/envs/PyEnv\n",
      "gcm-circuits             /Users/Mandy/opt/anaconda3/envs/gcm-circuits\n",
      "gcm-circuits-original     /Users/Mandy/opt/anaconda3/envs/gcm-circuits-original\n",
      "pytket                   /Users/Mandy/opt/anaconda3/envs/pytket\n",
      "qiskit-tutorial       *  /Users/Mandy/opt/anaconda3/envs/qiskit-tutorial\n",
      "\n",
      "\n",
      "Note: you may need to restart the kernel to use updated packages.\n"
     ]
    }
   ],
   "source": [
    "conda env list"
   ]
  },
  {
   "cell_type": "code",
   "execution_count": 3,
   "id": "4877bbb5-b0c8-4d91-a40f-4b96e6d56205",
   "metadata": {},
   "outputs": [],
   "source": [
    "conda install qiskit"
   ]
  },
  {
   "cell_type": "markdown",
   "id": "4c59475f-7e46-4d15-a08f-ba2a13df02ea",
   "metadata": {
    "tags": []
   },
   "source": [
    "#### Save IBMQ account information"
   ]
  },
  {
   "cell_type": "code",
   "execution_count": 7,
   "id": "9bd7e1f7-e103-4f67-a8b0-edf22ee6d916",
   "metadata": {},
   "outputs": [],
   "source": [
    "import qiskit\n",
    "from qiskit import IBMQ"
   ]
  },
  {
   "cell_type": "markdown",
   "id": "cd774454-4aa9-474b-b8ed-4dfc5c00b805",
   "metadata": {},
   "source": [
    "Replace \\<API token\\> with your API token which you can find on the [IBM Quantum Webpage](https://quantum-computing.ibm.com/)."
   ]
  },
  {
   "cell_type": "code",
   "execution_count": null,
   "id": "8d94517d-c321-4b6b-bf2f-ed31e7c4252b",
   "metadata": {},
   "outputs": [],
   "source": [
    "IBMQ.save_account(‘<API token>’)"
   ]
  },
  {
   "cell_type": "markdown",
   "id": "4dd5f46e-675b-4ff6-bb62-75a76e5e77aa",
   "metadata": {},
   "source": [
    "## 2 Resources"
   ]
  },
  {
   "cell_type": "markdown",
   "id": "143a9d2a-3784-4329-a947-dce30893e1d7",
   "metadata": {},
   "source": [
    "Textbook and Tutorials for Qiskit - https://qiskit.org/learn/\n",
    "\n",
    "IBM Quantum - https://quantum-computing.ibm.com/\n",
    "\n",
    "GitHub - https://github.com/Qiskit\n",
    "\n",
    "Videos - https://www.youtube.com/@qiskit/playlists\n"
   ]
  }
 ],
 "metadata": {
  "kernelspec": {
   "display_name": "Python 3 (ipykernel)",
   "language": "python",
   "name": "python3"
  },
  "language_info": {
   "codemirror_mode": {
    "name": "ipython",
    "version": 3
   },
   "file_extension": ".py",
   "mimetype": "text/x-python",
   "name": "python",
   "nbconvert_exporter": "python",
   "pygments_lexer": "ipython3",
   "version": "3.8.5"
  }
 },
 "nbformat": 4,
 "nbformat_minor": 5
}
