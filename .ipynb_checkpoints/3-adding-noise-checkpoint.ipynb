{
 "cells": [
  {
   "cell_type": "markdown",
   "id": "24cd5787-93a8-4670-b2dc-7d645596dfed",
   "metadata": {},
   "source": [
    "# Adding Noise to Simulations"
   ]
  },
  {
   "cell_type": "markdown",
   "id": "11c635a2-ce0d-4c16-ba0f-51dcffa97a64",
   "metadata": {},
   "source": [
    "https://qiskit.org/documentation/tutorials/simulators/2_device_noise_simulation.html\n",
    "\n",
    "https://qiskit.org/documentation/tutorials/simulators/3_building_noise_models.html\n",
    "\n",
    "https://qiskit.org/documentation/tutorials/simulators/4_custom_gate_noise.html\n",
    "\n",
    "https://qiskit.org/documentation/tutorials/simulators/5_noise_transformation.html"
   ]
  },
  {
   "cell_type": "code",
   "execution_count": null,
   "id": "aed836e0-b70b-4c6b-94da-36c0042cfed2",
   "metadata": {},
   "outputs": [],
   "source": []
  }
 ],
 "metadata": {
  "kernelspec": {
   "display_name": "Python 3 (ipykernel)",
   "language": "python",
   "name": "python3"
  },
  "language_info": {
   "codemirror_mode": {
    "name": "ipython",
    "version": 3
   },
   "file_extension": ".py",
   "mimetype": "text/x-python",
   "name": "python",
   "nbconvert_exporter": "python",
   "pygments_lexer": "ipython3",
   "version": "3.8.5"
  }
 },
 "nbformat": 4,
 "nbformat_minor": 5
}
